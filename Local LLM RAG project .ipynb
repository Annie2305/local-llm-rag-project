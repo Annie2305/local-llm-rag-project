{
 "cells": [
  {
   "cell_type": "code",
   "execution_count": 2,
   "id": "41d38123-249d-4c2c-b010-8576b08de2f3",
   "metadata": {
    "colab": {
     "base_uri": "https://localhost:8080/"
    },
    "id": "41d38123-249d-4c2c-b010-8576b08de2f3",
    "outputId": "339e60c5-3d53-49ae-800e-7a760c51b468"
   },
   "outputs": [
    {
     "name": "stdout",
     "output_type": "stream",
     "text": [
      "Requirement already satisfied: ollama in /Users/annieteng/miniforge3/lib/python3.12/site-packages (0.4.7)\n",
      "Requirement already satisfied: numpy in /Users/annieteng/miniforge3/lib/python3.12/site-packages (1.26.4)\n",
      "Requirement already satisfied: httpx<0.29,>=0.27 in /Users/annieteng/miniforge3/lib/python3.12/site-packages (from ollama) (0.27.2)\n",
      "Requirement already satisfied: pydantic<3.0.0,>=2.9.0 in /Users/annieteng/miniforge3/lib/python3.12/site-packages (from ollama) (2.10.6)\n",
      "Requirement already satisfied: anyio in /Users/annieteng/miniforge3/lib/python3.12/site-packages (from httpx<0.29,>=0.27->ollama) (4.6.2.post1)\n",
      "Requirement already satisfied: certifi in /Users/annieteng/miniforge3/lib/python3.12/site-packages (from httpx<0.29,>=0.27->ollama) (2024.8.30)\n",
      "Requirement already satisfied: httpcore==1.* in /Users/annieteng/miniforge3/lib/python3.12/site-packages (from httpx<0.29,>=0.27->ollama) (1.0.7)\n",
      "Requirement already satisfied: idna in /Users/annieteng/miniforge3/lib/python3.12/site-packages (from httpx<0.29,>=0.27->ollama) (3.10)\n",
      "Requirement already satisfied: sniffio in /Users/annieteng/miniforge3/lib/python3.12/site-packages (from httpx<0.29,>=0.27->ollama) (1.3.1)\n",
      "Requirement already satisfied: h11<0.15,>=0.13 in /Users/annieteng/miniforge3/lib/python3.12/site-packages (from httpcore==1.*->httpx<0.29,>=0.27->ollama) (0.14.0)\n",
      "Requirement already satisfied: annotated-types>=0.6.0 in /Users/annieteng/miniforge3/lib/python3.12/site-packages (from pydantic<3.0.0,>=2.9.0->ollama) (0.7.0)\n",
      "Requirement already satisfied: pydantic-core==2.27.2 in /Users/annieteng/miniforge3/lib/python3.12/site-packages (from pydantic<3.0.0,>=2.9.0->ollama) (2.27.2)\n",
      "Requirement already satisfied: typing-extensions>=4.12.2 in /Users/annieteng/miniforge3/lib/python3.12/site-packages (from pydantic<3.0.0,>=2.9.0->ollama) (4.12.2)\n",
      "Note: you may need to restart the kernel to use updated packages.\n"
     ]
    }
   ],
   "source": [
    "pip install ollama numpy"
   ]
  },
  {
   "cell_type": "code",
   "execution_count": 1,
   "id": "c9632ead-b22a-4b0f-9119-7d3d4a3b404b",
   "metadata": {
    "id": "c9632ead-b22a-4b0f-9119-7d3d4a3b404b"
   },
   "outputs": [],
   "source": [
    "import ollama\n",
    "import os\n",
    "import json\n",
    "from numpy import linalg, dot"
   ]
  },
  {
   "cell_type": "markdown",
   "id": "40b7e399-48eb-43c7-88d6-8f07717a662a",
   "metadata": {
    "id": "40b7e399-48eb-43c7-88d6-8f07717a662a"
   },
   "source": [
    "第一階段：手動打造一個 RAG"
   ]
  },
  {
   "cell_type": "code",
   "execution_count": 8,
   "id": "74c2715f-9506-4dd4-8bd0-3101c635ab55",
   "metadata": {
    "id": "74c2715f-9506-4dd4-8bd0-3101c635ab55"
   },
   "outputs": [
    {
     "name": "stdin",
     "output_type": "stream",
     "text": [
      "您想問什麼問題？\n",
      ">>>  ive的團隊名稱來由是什麼\n"
     ]
    },
    {
     "name": "stdout",
     "output_type": "stream",
     "text": [
      "<think>\n",
      "好，我现在需要回答关于IVE团队名称来源的问题。根据用户提供的情境，IVE的粉丝们的名字被定为“DIVE”，这结合了IVE英文发音和\"Dive into IVE\"的意思。\n",
      "\n",
      "首先，我应该确认这个名称确实是由“DIVE”来的，所以直接引用这个信息是正确的。然后，解释这个名称的意义：“Dive into IVE”表达了粉絲对团员的期待和信任，希望他们能一起享受音乐和舞台表演。\n",
      "\n",
      "接下来，我要确保使用繁体中文，并且避免任何简体中文或不确定的回答。如果我不确定的话，可能会需要进一步查证，但根据提供的信息，应该可以准确回答。\n",
      "\n",
      "最后，组织语言，使答案简洁明了，直接回应问题，不添加额外信息。\n",
      "</think>\n",
      "\n",
      "IVE的團隊名稱“DIVE”是由「Dive into IVE」的意思所來源，其中「DIVE」结合了「IVE」的英文發音和「Dive into IVE」的含義，表示粉絲們希望一起進入IVE的音樂和魅力中。\n"
     ]
    },
    {
     "name": "stdin",
     "output_type": "stream",
     "text": [
      ">>>  是來自於\n"
     ]
    },
    {
     "name": "stdout",
     "output_type": "stream",
     "text": [
      "<think>\n",
      "嗯，我现在需要回答用户的问题：“是源自於哪一年？” 用户提供的上下文涉及到一个名为DIVE的粉丝团体，特别是关于他们应援物品的时间线。\n",
      "\n",
      "首先，我注意到在2021年12月9日，IVE的官方社交媒体发布了名为“IVE 아이브 OFFICIAL FAN CLUB 'DIVE'”的视频。这里明确提到粉丝名是“DIVE”，这个词是由“IVE”的英文发音和“Dive into IVE”的意思组合而成的。所以，“DIVE”并不是一个已有的名字，而是IVE自己创造的。\n",
      "\n",
      "接下来，在2022年7月22日，IVE官方SNS公开了专属应援物品——官方亚克力手灯，并于2023年1月2日推出了第二代。这些信息说明他们是在粉丝公开支持他们的成员之后才推出的纪念品，而“DIVE”作为粉丝名的来源，则是出现在更早的时候。\n",
      "\n",
      "因此，可以确定，“DIVE”是源自于2021年的创造，而不是来自于其他时间或地方。\n",
      "</think>\n",
      "\n",
      "“DIVE”是源自於2021年。\n"
     ]
    },
    {
     "name": "stdin",
     "output_type": "stream",
     "text": [
      ">>>  是來自於i have而不是dive\n"
     ]
    },
    {
     "name": "stdout",
     "output_type": "stream",
     "text": [
      "<think>\n",
      "嗯，用户问的是“歌迷名稱是來自於i have而不是dive”，这看起来跟IVE这个组合有关。首先，我得确认一下IVE是什么，他们是一个韩国男子组合，对吧？然后，DIVE这个名字来源于什么？根据提供的背景信息，“DIVE”是把IVE的英文发音和“Dive into IVE”的意思结合起来的。所以，DIVE其实是粉丝们的一个专属名称。\n",
      "\n",
      "接下来，用户提到粉丝名来自“i have”，而不是“dive”。这可能是因为有些粉丝选择用“i have”来表达对IVE的支持或者个性吧。我需要确认DIVE是不是只有“dive”作为粉丝名，还是有其他来源的。\n",
      "\n",
      "根据情境描述，“DIVE”是公开粉丝名的一部分，但具体来说，粉丝们可能还有其他选择，比如“i have”。所以，回答应该说明DIVE来源于“Dive into IVE”，而粉丝们可以自由地选择自己的粉丝名，不一定非得用“dive”。\n",
      "\n",
      "另外，用户的问题是否正确？因为DIVE是粉丝名的一种，而不是所有粉丝都只能叫DIVE。所以，我需要明确告诉他们DIVE是来源之一，并不是唯一的选择。\n",
      "</think>\n",
      "\n",
      "在IVE的 official social media account 中， fans were given the option to choose their own name as part of the OFFICIAL FAN CLUB 'DIVE'. The term \"DIVE\" itself is derived from combining the English pronunciation of IVE and the phrase \"Dive into IVE\", which means diving into IVE's music and atmosphere. This reflects IVE's anticipation and trust in their fans, encouraging them to experience the music and stage performances together.\n",
      "\n",
      "至于粉丝们选择的 name，如\"I have\"，可能只是部分粉丝的偏好，并非唯一的选择。因此，DIVE 是一种基于“Dive into IVE”的概念，而 fans can also choose other names like \"I have\" based on their own preferences.\n"
     ]
    },
    {
     "name": "stdin",
     "output_type": "stream",
     "text": [
      ">>>  /bye\n"
     ]
    },
    {
     "name": "stdout",
     "output_type": "stream",
     "text": [
      "<think>\n",
      "好的，现在我要帮用户分析他们提供的团名由来的情境，并生成对应的歌词标题。\n",
      "\n",
      "首先，情境描述了团名的来源：一个二代手灯，水晶球手柄嵌入了IVE标志的设计字体。下方有一个邱比特箭头，且字体会旋转。手灯按钮是逗号，而逗号又是IVE官方标誌英文i的小写字母上的点。\n",
      "\n",
      "接下来，我需要将这些元素转化为歌词标题。首先，手灯是一个常见的物品，可能与灯光、舞台有关。水晶球可能代表光芒或视觉效果，邱比特箭头通常象征爱情和追求，所以这部分可以表达对未来的美好期望。\n",
      "\n",
      "手柄嵌入字体设计，这个细节可能暗示了品牌或团队的创意来源。IVE标志中的逗号作为按钮，而逗号又是i的小写字母的一部分，这可能暗含“我”的存在感或者自我定义。\n",
      "\n",
      "将这些元素结合起来，歌词标题应该能够涵盖灯光、水晶球、邱比特箭头以及字体的设计。同时，考虑到是团名，标题需要有一定的吸引力和寓意。\n",
      "\n",
      "最终，我想出两个可能的标题：《光之恋：邱比特之光》和《I: 真我的存在》。前者强调了灯光与爱情的主题，后者突出了品牌的核心概念“我”。\n",
      "\n",
      "现在，我应该检查这些标题是否符合用户提供的所有元素，并且是否有更好的表达方式。\n",
      "\n",
      "再想一想，是否还有其他可能的组合？比如将“光”和“邱比特箭”结合起来，或者更突出品牌字母i的设计。但目前这两个标题已经涵盖了主要元素，并且具有吸引力。\n",
      "</think>\n",
      "\n",
      "《光之恋：邱比特之光》\n",
      "* 《I: 真我的存在》\n"
     ]
    },
    {
     "ename": "KeyboardInterrupt",
     "evalue": "Interrupted by user",
     "output_type": "error",
     "traceback": [
      "\u001b[0;31m---------------------------------------------------------------------------\u001b[0m",
      "\u001b[0;31mKeyboardInterrupt\u001b[0m                         Traceback (most recent call last)",
      "Cell \u001b[0;32mIn[8], line 70\u001b[0m\n\u001b[1;32m     61\u001b[0m response \u001b[38;5;241m=\u001b[39m ollama\u001b[38;5;241m.\u001b[39mchat(\n\u001b[1;32m     62\u001b[0m     model\u001b[38;5;241m=\u001b[39m\u001b[38;5;124m\"\u001b[39m\u001b[38;5;124mdeepseek-r1\u001b[39m\u001b[38;5;124m\"\u001b[39m,\n\u001b[1;32m     63\u001b[0m     messages\u001b[38;5;241m=\u001b[39m[\n\u001b[0;32m   (...)\u001b[0m\n\u001b[1;32m     66\u001b[0m     ],\n\u001b[1;32m     67\u001b[0m )\n\u001b[1;32m     69\u001b[0m \u001b[38;5;28mprint\u001b[39m(response[\u001b[38;5;124m\"\u001b[39m\u001b[38;5;124mmessage\u001b[39m\u001b[38;5;124m\"\u001b[39m][\u001b[38;5;124m\"\u001b[39m\u001b[38;5;124mcontent\u001b[39m\u001b[38;5;124m\"\u001b[39m])\n\u001b[0;32m---> 70\u001b[0m prompt \u001b[38;5;241m=\u001b[39m \u001b[38;5;28;43minput\u001b[39;49m\u001b[43m(\u001b[49m\u001b[38;5;124;43m\"\u001b[39;49m\u001b[38;5;124;43m>>> \u001b[39;49m\u001b[38;5;124;43m\"\u001b[39;49m\u001b[43m)\u001b[49m\n",
      "File \u001b[0;32m~/miniforge3/lib/python3.12/site-packages/ipykernel/kernelbase.py:1282\u001b[0m, in \u001b[0;36mKernel.raw_input\u001b[0;34m(self, prompt)\u001b[0m\n\u001b[1;32m   1280\u001b[0m     msg \u001b[38;5;241m=\u001b[39m \u001b[38;5;124m\"\u001b[39m\u001b[38;5;124mraw_input was called, but this frontend does not support input requests.\u001b[39m\u001b[38;5;124m\"\u001b[39m\n\u001b[1;32m   1281\u001b[0m     \u001b[38;5;28;01mraise\u001b[39;00m StdinNotImplementedError(msg)\n\u001b[0;32m-> 1282\u001b[0m \u001b[38;5;28;01mreturn\u001b[39;00m \u001b[38;5;28;43mself\u001b[39;49m\u001b[38;5;241;43m.\u001b[39;49m\u001b[43m_input_request\u001b[49m\u001b[43m(\u001b[49m\n\u001b[1;32m   1283\u001b[0m \u001b[43m    \u001b[49m\u001b[38;5;28;43mstr\u001b[39;49m\u001b[43m(\u001b[49m\u001b[43mprompt\u001b[49m\u001b[43m)\u001b[49m\u001b[43m,\u001b[49m\n\u001b[1;32m   1284\u001b[0m \u001b[43m    \u001b[49m\u001b[38;5;28;43mself\u001b[39;49m\u001b[38;5;241;43m.\u001b[39;49m\u001b[43m_parent_ident\u001b[49m\u001b[43m[\u001b[49m\u001b[38;5;124;43m\"\u001b[39;49m\u001b[38;5;124;43mshell\u001b[39;49m\u001b[38;5;124;43m\"\u001b[39;49m\u001b[43m]\u001b[49m\u001b[43m,\u001b[49m\n\u001b[1;32m   1285\u001b[0m \u001b[43m    \u001b[49m\u001b[38;5;28;43mself\u001b[39;49m\u001b[38;5;241;43m.\u001b[39;49m\u001b[43mget_parent\u001b[49m\u001b[43m(\u001b[49m\u001b[38;5;124;43m\"\u001b[39;49m\u001b[38;5;124;43mshell\u001b[39;49m\u001b[38;5;124;43m\"\u001b[39;49m\u001b[43m)\u001b[49m\u001b[43m,\u001b[49m\n\u001b[1;32m   1286\u001b[0m \u001b[43m    \u001b[49m\u001b[43mpassword\u001b[49m\u001b[38;5;241;43m=\u001b[39;49m\u001b[38;5;28;43;01mFalse\u001b[39;49;00m\u001b[43m,\u001b[49m\n\u001b[1;32m   1287\u001b[0m \u001b[43m\u001b[49m\u001b[43m)\u001b[49m\n",
      "File \u001b[0;32m~/miniforge3/lib/python3.12/site-packages/ipykernel/kernelbase.py:1325\u001b[0m, in \u001b[0;36mKernel._input_request\u001b[0;34m(self, prompt, ident, parent, password)\u001b[0m\n\u001b[1;32m   1322\u001b[0m \u001b[38;5;28;01mexcept\u001b[39;00m \u001b[38;5;167;01mKeyboardInterrupt\u001b[39;00m:\n\u001b[1;32m   1323\u001b[0m     \u001b[38;5;66;03m# re-raise KeyboardInterrupt, to truncate traceback\u001b[39;00m\n\u001b[1;32m   1324\u001b[0m     msg \u001b[38;5;241m=\u001b[39m \u001b[38;5;124m\"\u001b[39m\u001b[38;5;124mInterrupted by user\u001b[39m\u001b[38;5;124m\"\u001b[39m\n\u001b[0;32m-> 1325\u001b[0m     \u001b[38;5;28;01mraise\u001b[39;00m \u001b[38;5;167;01mKeyboardInterrupt\u001b[39;00m(msg) \u001b[38;5;28;01mfrom\u001b[39;00m \u001b[38;5;28;01mNone\u001b[39;00m\n\u001b[1;32m   1326\u001b[0m \u001b[38;5;28;01mexcept\u001b[39;00m \u001b[38;5;167;01mException\u001b[39;00m:\n\u001b[1;32m   1327\u001b[0m     \u001b[38;5;28mself\u001b[39m\u001b[38;5;241m.\u001b[39mlog\u001b[38;5;241m.\u001b[39mwarning(\u001b[38;5;124m\"\u001b[39m\u001b[38;5;124mInvalid Message:\u001b[39m\u001b[38;5;124m\"\u001b[39m, exc_info\u001b[38;5;241m=\u001b[39m\u001b[38;5;28;01mTrue\u001b[39;00m)\n",
      "\u001b[0;31mKeyboardInterrupt\u001b[0m: Interrupted by user"
     ]
    }
   ],
   "source": [
    "#這個函數是用來讀取一個 txt 檔，並且把每一行當成一個段落而且會跳過空行跟去掉首尾空白字符\n",
    "def parse_paragraph(filename):\n",
    "    with open(filename) as f:\n",
    "        return [line.strip() for line in f if line.strip()]\n",
    "\n",
    "\n",
    "#這個函數會接收段落，對每一個段落使用 mistral 的 embedding 轉成嵌入向量\n",
    "def calc_embedings(paragraphs):\n",
    "    return [\n",
    "        ollama.embeddings(model=\"deepseek-r1\", prompt=data)[\"embedding\"]\n",
    "        for data in paragraphs\n",
    "    ]\n",
    "\n",
    "\n",
    "#這個函數用來緩存嵌入向量，當輸入段落時會先檢查之前是否建立過，若有則讀取並返回，若無則重新建立\n",
    "def cache_embeddings(filename, paragraphs):\n",
    "    # Extract just the base filename without the path\n",
    "    base_filename = os.path.basename(filename)\n",
    "    embedding_file = f\"cache/{base_filename}.json\"\n",
    "    \n",
    "    if os.path.isfile(embedding_file):\n",
    "        with open(embedding_file) as f:\n",
    "            return json.load(f)\n",
    "    \n",
    "    os.makedirs(\"cache\", exist_ok=True)\n",
    "    embeddings = calc_embedings(paragraphs)\n",
    "    \n",
    "    with open(embedding_file, \"w\") as f:\n",
    "        json.dump(embeddings, f)\n",
    "    \n",
    "    return embeddings\n",
    "\n",
    "\n",
    "#這個函數計算向量 v 和一堆向量的相似度然後計算分數存為 scores 再 return 前幾高的\n",
    "def calc_similar_vectors(v, vectors):\n",
    "    v_norm = linalg.norm(v)\n",
    "    scores = [dot(v, item) / (v_norm * linalg.norm(item)) for item in vectors]\n",
    "    return sorted(enumerate(scores), reverse=True, key=lambda x: x[1])\n",
    "\n",
    "\n",
    "\n",
    "if __name__ == \"__main__\":\n",
    "    doc = \"/Users/annieteng/Desktop/0308test.txt\"      #把你想要問的文檔（txt）上傳到 jupyter notebook 後對其右鍵後 copy path 貼在這裡\n",
    "    paragraphs = parse_paragraph(doc)  #把文章轉成段落\n",
    "    embeddings = cache_embeddings(doc, paragraphs)  #把段落轉成向量\n",
    "\n",
    "    prompt = input(\"您想問什麼問題？\\n>>> \")\n",
    "\n",
    "    while prompt.lower() != \"bye\":\n",
    "        prompt_embedding = ollama.embeddings(model=\"deepseek-r1\", prompt=prompt)[\n",
    "            \"embedding\"\n",
    "        ]\n",
    "        similar_vectors = calc_similar_vectors(prompt_embedding, embeddings)[:3]    #輸入問題後和嵌入資料庫計算相似度並返回前三高的結果\n",
    "\n",
    "        valid_vectors = [vector for vector in similar_vectors if vector[0] < len(paragraphs)]\n",
    "        system_prompt = (\n",
    "            \"現在開始使用我提供的情境來回答，只能使用繁體中文，不要有簡體中文字。如果你不確定答案，就說不知道。情境如下：\"\n",
    "            + \"\\n\".join(paragraphs[vector[0]] for vector in valid_vectors)        #把段落傳給 ollama 的 llama3.2:1b 讓他回答\n",
    "        )\n",
    "\n",
    "        response = ollama.chat(\n",
    "            model=\"deepseek-r1\",\n",
    "            messages=[\n",
    "                {\"role\": \"system\", \"content\": system_prompt},\n",
    "                {\"role\": \"user\", \"content\": prompt},\n",
    "            ],\n",
    "        )\n",
    "\n",
    "        print(response[\"message\"][\"content\"])\n",
    "        prompt = input(\">>> \")"
   ]
  },
  {
   "cell_type": "markdown",
   "id": "9c40d55d-d0dd-4aa6-8d0b-ce6ac7f2f170",
   "metadata": {
    "id": "9c40d55d-d0dd-4aa6-8d0b-ce6ac7f2f170"
   },
   "source": [
    "第二階段：調用 langchain"
   ]
  },
  {
   "cell_type": "code",
   "execution_count": 2,
   "id": "8b11ce4f-603b-4d6d-88c0-6e5e3b815832",
   "metadata": {
    "id": "8b11ce4f-603b-4d6d-88c0-6e5e3b815832"
   },
   "outputs": [
    {
     "name": "stdout",
     "output_type": "stream",
     "text": [
      "Requirement already satisfied: langchain in /Users/annieteng/miniforge3/lib/python3.12/site-packages (0.3.20)\n",
      "Requirement already satisfied: langchain_community in /Users/annieteng/miniforge3/lib/python3.12/site-packages (0.3.19)\n",
      "Requirement already satisfied: langchain_chroma in /Users/annieteng/miniforge3/lib/python3.12/site-packages (0.2.2)\n",
      "Requirement already satisfied: pypdf in /Users/annieteng/miniforge3/lib/python3.12/site-packages (5.3.1)\n",
      "Requirement already satisfied: langchain-core<1.0.0,>=0.3.41 in /Users/annieteng/miniforge3/lib/python3.12/site-packages (from langchain) (0.3.43)\n",
      "Requirement already satisfied: langchain-text-splitters<1.0.0,>=0.3.6 in /Users/annieteng/miniforge3/lib/python3.12/site-packages (from langchain) (0.3.6)\n",
      "Requirement already satisfied: langsmith<0.4,>=0.1.17 in /Users/annieteng/miniforge3/lib/python3.12/site-packages (from langchain) (0.3.13)\n",
      "Requirement already satisfied: pydantic<3.0.0,>=2.7.4 in /Users/annieteng/miniforge3/lib/python3.12/site-packages (from langchain) (2.10.6)\n",
      "Requirement already satisfied: SQLAlchemy<3,>=1.4 in /Users/annieteng/miniforge3/lib/python3.12/site-packages (from langchain) (2.0.38)\n",
      "Requirement already satisfied: requests<3,>=2 in /Users/annieteng/miniforge3/lib/python3.12/site-packages (from langchain) (2.32.3)\n",
      "Requirement already satisfied: PyYAML>=5.3 in /Users/annieteng/miniforge3/lib/python3.12/site-packages (from langchain) (6.0.2)\n",
      "Requirement already satisfied: aiohttp<4.0.0,>=3.8.3 in /Users/annieteng/miniforge3/lib/python3.12/site-packages (from langchain_community) (3.11.13)\n",
      "Requirement already satisfied: tenacity!=8.4.0,<10,>=8.1.0 in /Users/annieteng/miniforge3/lib/python3.12/site-packages (from langchain_community) (9.0.0)\n",
      "Requirement already satisfied: dataclasses-json<0.7,>=0.5.7 in /Users/annieteng/miniforge3/lib/python3.12/site-packages (from langchain_community) (0.6.7)\n",
      "Requirement already satisfied: pydantic-settings<3.0.0,>=2.4.0 in /Users/annieteng/miniforge3/lib/python3.12/site-packages (from langchain_community) (2.8.1)\n",
      "Requirement already satisfied: httpx-sse<1.0.0,>=0.4.0 in /Users/annieteng/miniforge3/lib/python3.12/site-packages (from langchain_community) (0.4.0)\n",
      "Requirement already satisfied: numpy<3,>=1.26.2 in /Users/annieteng/miniforge3/lib/python3.12/site-packages (from langchain_community) (1.26.4)\n",
      "Requirement already satisfied: chromadb!=0.5.10,!=0.5.11,!=0.5.12,!=0.5.4,!=0.5.5,!=0.5.7,!=0.5.9,<0.7.0,>=0.4.0 in /Users/annieteng/miniforge3/lib/python3.12/site-packages (from langchain_chroma) (0.6.3)\n",
      "Requirement already satisfied: aiohappyeyeballs>=2.3.0 in /Users/annieteng/miniforge3/lib/python3.12/site-packages (from aiohttp<4.0.0,>=3.8.3->langchain_community) (2.5.0)\n",
      "Requirement already satisfied: aiosignal>=1.1.2 in /Users/annieteng/miniforge3/lib/python3.12/site-packages (from aiohttp<4.0.0,>=3.8.3->langchain_community) (1.3.2)\n",
      "Requirement already satisfied: attrs>=17.3.0 in /Users/annieteng/miniforge3/lib/python3.12/site-packages (from aiohttp<4.0.0,>=3.8.3->langchain_community) (24.2.0)\n",
      "Requirement already satisfied: frozenlist>=1.1.1 in /Users/annieteng/miniforge3/lib/python3.12/site-packages (from aiohttp<4.0.0,>=3.8.3->langchain_community) (1.5.0)\n",
      "Requirement already satisfied: multidict<7.0,>=4.5 in /Users/annieteng/miniforge3/lib/python3.12/site-packages (from aiohttp<4.0.0,>=3.8.3->langchain_community) (6.1.0)\n",
      "Requirement already satisfied: propcache>=0.2.0 in /Users/annieteng/miniforge3/lib/python3.12/site-packages (from aiohttp<4.0.0,>=3.8.3->langchain_community) (0.3.0)\n",
      "Requirement already satisfied: yarl<2.0,>=1.17.0 in /Users/annieteng/miniforge3/lib/python3.12/site-packages (from aiohttp<4.0.0,>=3.8.3->langchain_community) (1.18.3)\n",
      "Requirement already satisfied: build>=1.0.3 in /Users/annieteng/miniforge3/lib/python3.12/site-packages (from chromadb!=0.5.10,!=0.5.11,!=0.5.12,!=0.5.4,!=0.5.5,!=0.5.7,!=0.5.9,<0.7.0,>=0.4.0->langchain_chroma) (1.2.2.post1)\n",
      "Requirement already satisfied: chroma-hnswlib==0.7.6 in /Users/annieteng/miniforge3/lib/python3.12/site-packages (from chromadb!=0.5.10,!=0.5.11,!=0.5.12,!=0.5.4,!=0.5.5,!=0.5.7,!=0.5.9,<0.7.0,>=0.4.0->langchain_chroma) (0.7.6)\n",
      "Requirement already satisfied: fastapi>=0.95.2 in /Users/annieteng/miniforge3/lib/python3.12/site-packages (from chromadb!=0.5.10,!=0.5.11,!=0.5.12,!=0.5.4,!=0.5.5,!=0.5.7,!=0.5.9,<0.7.0,>=0.4.0->langchain_chroma) (0.115.11)\n",
      "Requirement already satisfied: uvicorn>=0.18.3 in /Users/annieteng/miniforge3/lib/python3.12/site-packages (from uvicorn[standard]>=0.18.3->chromadb!=0.5.10,!=0.5.11,!=0.5.12,!=0.5.4,!=0.5.5,!=0.5.7,!=0.5.9,<0.7.0,>=0.4.0->langchain_chroma) (0.34.0)\n",
      "Requirement already satisfied: posthog>=2.4.0 in /Users/annieteng/miniforge3/lib/python3.12/site-packages (from chromadb!=0.5.10,!=0.5.11,!=0.5.12,!=0.5.4,!=0.5.5,!=0.5.7,!=0.5.9,<0.7.0,>=0.4.0->langchain_chroma) (3.19.0)\n",
      "Requirement already satisfied: typing_extensions>=4.5.0 in /Users/annieteng/miniforge3/lib/python3.12/site-packages (from chromadb!=0.5.10,!=0.5.11,!=0.5.12,!=0.5.4,!=0.5.5,!=0.5.7,!=0.5.9,<0.7.0,>=0.4.0->langchain_chroma) (4.12.2)\n",
      "Requirement already satisfied: onnxruntime>=1.14.1 in /Users/annieteng/miniforge3/lib/python3.12/site-packages (from chromadb!=0.5.10,!=0.5.11,!=0.5.12,!=0.5.4,!=0.5.5,!=0.5.7,!=0.5.9,<0.7.0,>=0.4.0->langchain_chroma) (1.21.0)\n",
      "Requirement already satisfied: opentelemetry-api>=1.2.0 in /Users/annieteng/miniforge3/lib/python3.12/site-packages (from chromadb!=0.5.10,!=0.5.11,!=0.5.12,!=0.5.4,!=0.5.5,!=0.5.7,!=0.5.9,<0.7.0,>=0.4.0->langchain_chroma) (1.30.0)\n",
      "Requirement already satisfied: opentelemetry-exporter-otlp-proto-grpc>=1.2.0 in /Users/annieteng/miniforge3/lib/python3.12/site-packages (from chromadb!=0.5.10,!=0.5.11,!=0.5.12,!=0.5.4,!=0.5.5,!=0.5.7,!=0.5.9,<0.7.0,>=0.4.0->langchain_chroma) (1.30.0)\n",
      "Requirement already satisfied: opentelemetry-instrumentation-fastapi>=0.41b0 in /Users/annieteng/miniforge3/lib/python3.12/site-packages (from chromadb!=0.5.10,!=0.5.11,!=0.5.12,!=0.5.4,!=0.5.5,!=0.5.7,!=0.5.9,<0.7.0,>=0.4.0->langchain_chroma) (0.51b0)\n",
      "Requirement already satisfied: opentelemetry-sdk>=1.2.0 in /Users/annieteng/miniforge3/lib/python3.12/site-packages (from chromadb!=0.5.10,!=0.5.11,!=0.5.12,!=0.5.4,!=0.5.5,!=0.5.7,!=0.5.9,<0.7.0,>=0.4.0->langchain_chroma) (1.30.0)\n",
      "Requirement already satisfied: tokenizers>=0.13.2 in /Users/annieteng/miniforge3/lib/python3.12/site-packages (from chromadb!=0.5.10,!=0.5.11,!=0.5.12,!=0.5.4,!=0.5.5,!=0.5.7,!=0.5.9,<0.7.0,>=0.4.0->langchain_chroma) (0.21.0)\n",
      "Requirement already satisfied: pypika>=0.48.9 in /Users/annieteng/miniforge3/lib/python3.12/site-packages (from chromadb!=0.5.10,!=0.5.11,!=0.5.12,!=0.5.4,!=0.5.5,!=0.5.7,!=0.5.9,<0.7.0,>=0.4.0->langchain_chroma) (0.48.9)\n",
      "Requirement already satisfied: tqdm>=4.65.0 in /Users/annieteng/miniforge3/lib/python3.12/site-packages (from chromadb!=0.5.10,!=0.5.11,!=0.5.12,!=0.5.4,!=0.5.5,!=0.5.7,!=0.5.9,<0.7.0,>=0.4.0->langchain_chroma) (4.66.5)\n",
      "Requirement already satisfied: overrides>=7.3.1 in /Users/annieteng/miniforge3/lib/python3.12/site-packages (from chromadb!=0.5.10,!=0.5.11,!=0.5.12,!=0.5.4,!=0.5.5,!=0.5.7,!=0.5.9,<0.7.0,>=0.4.0->langchain_chroma) (7.7.0)\n",
      "Requirement already satisfied: importlib-resources in /Users/annieteng/miniforge3/lib/python3.12/site-packages (from chromadb!=0.5.10,!=0.5.11,!=0.5.12,!=0.5.4,!=0.5.5,!=0.5.7,!=0.5.9,<0.7.0,>=0.4.0->langchain_chroma) (6.5.2)\n",
      "Requirement already satisfied: grpcio>=1.58.0 in /Users/annieteng/miniforge3/lib/python3.12/site-packages (from chromadb!=0.5.10,!=0.5.11,!=0.5.12,!=0.5.4,!=0.5.5,!=0.5.7,!=0.5.9,<0.7.0,>=0.4.0->langchain_chroma) (1.70.0)\n",
      "Requirement already satisfied: bcrypt>=4.0.1 in /Users/annieteng/miniforge3/lib/python3.12/site-packages (from chromadb!=0.5.10,!=0.5.11,!=0.5.12,!=0.5.4,!=0.5.5,!=0.5.7,!=0.5.9,<0.7.0,>=0.4.0->langchain_chroma) (4.3.0)\n",
      "Requirement already satisfied: typer>=0.9.0 in /Users/annieteng/miniforge3/lib/python3.12/site-packages (from chromadb!=0.5.10,!=0.5.11,!=0.5.12,!=0.5.4,!=0.5.5,!=0.5.7,!=0.5.9,<0.7.0,>=0.4.0->langchain_chroma) (0.15.2)\n",
      "Requirement already satisfied: kubernetes>=28.1.0 in /Users/annieteng/miniforge3/lib/python3.12/site-packages (from chromadb!=0.5.10,!=0.5.11,!=0.5.12,!=0.5.4,!=0.5.5,!=0.5.7,!=0.5.9,<0.7.0,>=0.4.0->langchain_chroma) (32.0.1)\n",
      "Requirement already satisfied: mmh3>=4.0.1 in /Users/annieteng/miniforge3/lib/python3.12/site-packages (from chromadb!=0.5.10,!=0.5.11,!=0.5.12,!=0.5.4,!=0.5.5,!=0.5.7,!=0.5.9,<0.7.0,>=0.4.0->langchain_chroma) (5.1.0)\n",
      "Requirement already satisfied: orjson>=3.9.12 in /Users/annieteng/miniforge3/lib/python3.12/site-packages (from chromadb!=0.5.10,!=0.5.11,!=0.5.12,!=0.5.4,!=0.5.5,!=0.5.7,!=0.5.9,<0.7.0,>=0.4.0->langchain_chroma) (3.10.15)\n",
      "Requirement already satisfied: httpx>=0.27.0 in /Users/annieteng/miniforge3/lib/python3.12/site-packages (from chromadb!=0.5.10,!=0.5.11,!=0.5.12,!=0.5.4,!=0.5.5,!=0.5.7,!=0.5.9,<0.7.0,>=0.4.0->langchain_chroma) (0.27.2)\n",
      "Requirement already satisfied: rich>=10.11.0 in /Users/annieteng/miniforge3/lib/python3.12/site-packages (from chromadb!=0.5.10,!=0.5.11,!=0.5.12,!=0.5.4,!=0.5.5,!=0.5.7,!=0.5.9,<0.7.0,>=0.4.0->langchain_chroma) (13.9.4)\n",
      "Requirement already satisfied: marshmallow<4.0.0,>=3.18.0 in /Users/annieteng/miniforge3/lib/python3.12/site-packages (from dataclasses-json<0.7,>=0.5.7->langchain_community) (3.26.1)\n",
      "Requirement already satisfied: typing-inspect<1,>=0.4.0 in /Users/annieteng/miniforge3/lib/python3.12/site-packages (from dataclasses-json<0.7,>=0.5.7->langchain_community) (0.9.0)\n",
      "Requirement already satisfied: jsonpatch<2.0,>=1.33 in /Users/annieteng/miniforge3/lib/python3.12/site-packages (from langchain-core<1.0.0,>=0.3.41->langchain) (1.33)\n",
      "Requirement already satisfied: packaging<25,>=23.2 in /Users/annieteng/miniforge3/lib/python3.12/site-packages (from langchain-core<1.0.0,>=0.3.41->langchain) (24.1)\n",
      "Requirement already satisfied: requests-toolbelt<2.0.0,>=1.0.0 in /Users/annieteng/miniforge3/lib/python3.12/site-packages (from langsmith<0.4,>=0.1.17->langchain) (1.0.0)\n",
      "Requirement already satisfied: zstandard<0.24.0,>=0.23.0 in /Users/annieteng/miniforge3/lib/python3.12/site-packages (from langsmith<0.4,>=0.1.17->langchain) (0.23.0)\n",
      "Requirement already satisfied: annotated-types>=0.6.0 in /Users/annieteng/miniforge3/lib/python3.12/site-packages (from pydantic<3.0.0,>=2.7.4->langchain) (0.7.0)\n",
      "Requirement already satisfied: pydantic-core==2.27.2 in /Users/annieteng/miniforge3/lib/python3.12/site-packages (from pydantic<3.0.0,>=2.7.4->langchain) (2.27.2)\n",
      "Requirement already satisfied: python-dotenv>=0.21.0 in /Users/annieteng/miniforge3/lib/python3.12/site-packages (from pydantic-settings<3.0.0,>=2.4.0->langchain_community) (1.0.1)\n",
      "Requirement already satisfied: charset-normalizer<4,>=2 in /Users/annieteng/miniforge3/lib/python3.12/site-packages (from requests<3,>=2->langchain) (3.3.2)\n",
      "Requirement already satisfied: idna<4,>=2.5 in /Users/annieteng/miniforge3/lib/python3.12/site-packages (from requests<3,>=2->langchain) (3.10)\n",
      "Requirement already satisfied: urllib3<3,>=1.21.1 in /Users/annieteng/miniforge3/lib/python3.12/site-packages (from requests<3,>=2->langchain) (2.2.3)\n",
      "Requirement already satisfied: certifi>=2017.4.17 in /Users/annieteng/miniforge3/lib/python3.12/site-packages (from requests<3,>=2->langchain) (2024.8.30)\n",
      "Requirement already satisfied: pyproject_hooks in /Users/annieteng/miniforge3/lib/python3.12/site-packages (from build>=1.0.3->chromadb!=0.5.10,!=0.5.11,!=0.5.12,!=0.5.4,!=0.5.5,!=0.5.7,!=0.5.9,<0.7.0,>=0.4.0->langchain_chroma) (1.2.0)\n",
      "Requirement already satisfied: starlette<0.47.0,>=0.40.0 in /Users/annieteng/miniforge3/lib/python3.12/site-packages (from fastapi>=0.95.2->chromadb!=0.5.10,!=0.5.11,!=0.5.12,!=0.5.4,!=0.5.5,!=0.5.7,!=0.5.9,<0.7.0,>=0.4.0->langchain_chroma) (0.46.0)\n",
      "Requirement already satisfied: anyio in /Users/annieteng/miniforge3/lib/python3.12/site-packages (from httpx>=0.27.0->chromadb!=0.5.10,!=0.5.11,!=0.5.12,!=0.5.4,!=0.5.5,!=0.5.7,!=0.5.9,<0.7.0,>=0.4.0->langchain_chroma) (4.6.2.post1)\n",
      "Requirement already satisfied: httpcore==1.* in /Users/annieteng/miniforge3/lib/python3.12/site-packages (from httpx>=0.27.0->chromadb!=0.5.10,!=0.5.11,!=0.5.12,!=0.5.4,!=0.5.5,!=0.5.7,!=0.5.9,<0.7.0,>=0.4.0->langchain_chroma) (1.0.7)\n",
      "Requirement already satisfied: sniffio in /Users/annieteng/miniforge3/lib/python3.12/site-packages (from httpx>=0.27.0->chromadb!=0.5.10,!=0.5.11,!=0.5.12,!=0.5.4,!=0.5.5,!=0.5.7,!=0.5.9,<0.7.0,>=0.4.0->langchain_chroma) (1.3.1)\n",
      "Requirement already satisfied: h11<0.15,>=0.13 in /Users/annieteng/miniforge3/lib/python3.12/site-packages (from httpcore==1.*->httpx>=0.27.0->chromadb!=0.5.10,!=0.5.11,!=0.5.12,!=0.5.4,!=0.5.5,!=0.5.7,!=0.5.9,<0.7.0,>=0.4.0->langchain_chroma) (0.14.0)\n",
      "Requirement already satisfied: jsonpointer>=1.9 in /Users/annieteng/miniforge3/lib/python3.12/site-packages (from jsonpatch<2.0,>=1.33->langchain-core<1.0.0,>=0.3.41->langchain) (3.0.0)\n",
      "Requirement already satisfied: six>=1.9.0 in /Users/annieteng/miniforge3/lib/python3.12/site-packages (from kubernetes>=28.1.0->chromadb!=0.5.10,!=0.5.11,!=0.5.12,!=0.5.4,!=0.5.5,!=0.5.7,!=0.5.9,<0.7.0,>=0.4.0->langchain_chroma) (1.16.0)\n",
      "Requirement already satisfied: python-dateutil>=2.5.3 in /Users/annieteng/miniforge3/lib/python3.12/site-packages (from kubernetes>=28.1.0->chromadb!=0.5.10,!=0.5.11,!=0.5.12,!=0.5.4,!=0.5.5,!=0.5.7,!=0.5.9,<0.7.0,>=0.4.0->langchain_chroma) (2.9.0.post0)\n",
      "Requirement already satisfied: google-auth>=1.0.1 in /Users/annieteng/miniforge3/lib/python3.12/site-packages (from kubernetes>=28.1.0->chromadb!=0.5.10,!=0.5.11,!=0.5.12,!=0.5.4,!=0.5.5,!=0.5.7,!=0.5.9,<0.7.0,>=0.4.0->langchain_chroma) (2.38.0)\n",
      "Requirement already satisfied: websocket-client!=0.40.0,!=0.41.*,!=0.42.*,>=0.32.0 in /Users/annieteng/miniforge3/lib/python3.12/site-packages (from kubernetes>=28.1.0->chromadb!=0.5.10,!=0.5.11,!=0.5.12,!=0.5.4,!=0.5.5,!=0.5.7,!=0.5.9,<0.7.0,>=0.4.0->langchain_chroma) (1.8.0)\n",
      "Requirement already satisfied: requests-oauthlib in /Users/annieteng/miniforge3/lib/python3.12/site-packages (from kubernetes>=28.1.0->chromadb!=0.5.10,!=0.5.11,!=0.5.12,!=0.5.4,!=0.5.5,!=0.5.7,!=0.5.9,<0.7.0,>=0.4.0->langchain_chroma) (2.0.0)\n",
      "Requirement already satisfied: oauthlib>=3.2.2 in /Users/annieteng/miniforge3/lib/python3.12/site-packages (from kubernetes>=28.1.0->chromadb!=0.5.10,!=0.5.11,!=0.5.12,!=0.5.4,!=0.5.5,!=0.5.7,!=0.5.9,<0.7.0,>=0.4.0->langchain_chroma) (3.2.2)\n",
      "Requirement already satisfied: durationpy>=0.7 in /Users/annieteng/miniforge3/lib/python3.12/site-packages (from kubernetes>=28.1.0->chromadb!=0.5.10,!=0.5.11,!=0.5.12,!=0.5.4,!=0.5.5,!=0.5.7,!=0.5.9,<0.7.0,>=0.4.0->langchain_chroma) (0.9)\n",
      "Requirement already satisfied: coloredlogs in /Users/annieteng/miniforge3/lib/python3.12/site-packages (from onnxruntime>=1.14.1->chromadb!=0.5.10,!=0.5.11,!=0.5.12,!=0.5.4,!=0.5.5,!=0.5.7,!=0.5.9,<0.7.0,>=0.4.0->langchain_chroma) (15.0.1)\n",
      "Requirement already satisfied: flatbuffers in /Users/annieteng/miniforge3/lib/python3.12/site-packages (from onnxruntime>=1.14.1->chromadb!=0.5.10,!=0.5.11,!=0.5.12,!=0.5.4,!=0.5.5,!=0.5.7,!=0.5.9,<0.7.0,>=0.4.0->langchain_chroma) (25.2.10)\n",
      "Requirement already satisfied: protobuf in /Users/annieteng/miniforge3/lib/python3.12/site-packages (from onnxruntime>=1.14.1->chromadb!=0.5.10,!=0.5.11,!=0.5.12,!=0.5.4,!=0.5.5,!=0.5.7,!=0.5.9,<0.7.0,>=0.4.0->langchain_chroma) (5.29.3)\n",
      "Requirement already satisfied: sympy in /Users/annieteng/miniforge3/lib/python3.12/site-packages (from onnxruntime>=1.14.1->chromadb!=0.5.10,!=0.5.11,!=0.5.12,!=0.5.4,!=0.5.5,!=0.5.7,!=0.5.9,<0.7.0,>=0.4.0->langchain_chroma) (1.13.3)\n",
      "Requirement already satisfied: deprecated>=1.2.6 in /Users/annieteng/miniforge3/lib/python3.12/site-packages (from opentelemetry-api>=1.2.0->chromadb!=0.5.10,!=0.5.11,!=0.5.12,!=0.5.4,!=0.5.5,!=0.5.7,!=0.5.9,<0.7.0,>=0.4.0->langchain_chroma) (1.2.18)\n",
      "Requirement already satisfied: importlib-metadata<=8.5.0,>=6.0 in /Users/annieteng/miniforge3/lib/python3.12/site-packages (from opentelemetry-api>=1.2.0->chromadb!=0.5.10,!=0.5.11,!=0.5.12,!=0.5.4,!=0.5.5,!=0.5.7,!=0.5.9,<0.7.0,>=0.4.0->langchain_chroma) (8.5.0)\n",
      "Requirement already satisfied: googleapis-common-protos~=1.52 in /Users/annieteng/miniforge3/lib/python3.12/site-packages (from opentelemetry-exporter-otlp-proto-grpc>=1.2.0->chromadb!=0.5.10,!=0.5.11,!=0.5.12,!=0.5.4,!=0.5.5,!=0.5.7,!=0.5.9,<0.7.0,>=0.4.0->langchain_chroma) (1.69.1)\n",
      "Requirement already satisfied: opentelemetry-exporter-otlp-proto-common==1.30.0 in /Users/annieteng/miniforge3/lib/python3.12/site-packages (from opentelemetry-exporter-otlp-proto-grpc>=1.2.0->chromadb!=0.5.10,!=0.5.11,!=0.5.12,!=0.5.4,!=0.5.5,!=0.5.7,!=0.5.9,<0.7.0,>=0.4.0->langchain_chroma) (1.30.0)\n",
      "Requirement already satisfied: opentelemetry-proto==1.30.0 in /Users/annieteng/miniforge3/lib/python3.12/site-packages (from opentelemetry-exporter-otlp-proto-grpc>=1.2.0->chromadb!=0.5.10,!=0.5.11,!=0.5.12,!=0.5.4,!=0.5.5,!=0.5.7,!=0.5.9,<0.7.0,>=0.4.0->langchain_chroma) (1.30.0)\n",
      "Requirement already satisfied: opentelemetry-instrumentation-asgi==0.51b0 in /Users/annieteng/miniforge3/lib/python3.12/site-packages (from opentelemetry-instrumentation-fastapi>=0.41b0->chromadb!=0.5.10,!=0.5.11,!=0.5.12,!=0.5.4,!=0.5.5,!=0.5.7,!=0.5.9,<0.7.0,>=0.4.0->langchain_chroma) (0.51b0)\n",
      "Requirement already satisfied: opentelemetry-instrumentation==0.51b0 in /Users/annieteng/miniforge3/lib/python3.12/site-packages (from opentelemetry-instrumentation-fastapi>=0.41b0->chromadb!=0.5.10,!=0.5.11,!=0.5.12,!=0.5.4,!=0.5.5,!=0.5.7,!=0.5.9,<0.7.0,>=0.4.0->langchain_chroma) (0.51b0)\n",
      "Requirement already satisfied: opentelemetry-semantic-conventions==0.51b0 in /Users/annieteng/miniforge3/lib/python3.12/site-packages (from opentelemetry-instrumentation-fastapi>=0.41b0->chromadb!=0.5.10,!=0.5.11,!=0.5.12,!=0.5.4,!=0.5.5,!=0.5.7,!=0.5.9,<0.7.0,>=0.4.0->langchain_chroma) (0.51b0)\n",
      "Requirement already satisfied: opentelemetry-util-http==0.51b0 in /Users/annieteng/miniforge3/lib/python3.12/site-packages (from opentelemetry-instrumentation-fastapi>=0.41b0->chromadb!=0.5.10,!=0.5.11,!=0.5.12,!=0.5.4,!=0.5.5,!=0.5.7,!=0.5.9,<0.7.0,>=0.4.0->langchain_chroma) (0.51b0)\n",
      "Requirement already satisfied: wrapt<2.0.0,>=1.0.0 in /Users/annieteng/miniforge3/lib/python3.12/site-packages (from opentelemetry-instrumentation==0.51b0->opentelemetry-instrumentation-fastapi>=0.41b0->chromadb!=0.5.10,!=0.5.11,!=0.5.12,!=0.5.4,!=0.5.5,!=0.5.7,!=0.5.9,<0.7.0,>=0.4.0->langchain_chroma) (1.17.2)\n",
      "Requirement already satisfied: asgiref~=3.0 in /Users/annieteng/miniforge3/lib/python3.12/site-packages (from opentelemetry-instrumentation-asgi==0.51b0->opentelemetry-instrumentation-fastapi>=0.41b0->chromadb!=0.5.10,!=0.5.11,!=0.5.12,!=0.5.4,!=0.5.5,!=0.5.7,!=0.5.9,<0.7.0,>=0.4.0->langchain_chroma) (3.8.1)\n",
      "Requirement already satisfied: monotonic>=1.5 in /Users/annieteng/miniforge3/lib/python3.12/site-packages (from posthog>=2.4.0->chromadb!=0.5.10,!=0.5.11,!=0.5.12,!=0.5.4,!=0.5.5,!=0.5.7,!=0.5.9,<0.7.0,>=0.4.0->langchain_chroma) (1.6)\n",
      "Requirement already satisfied: backoff>=1.10.0 in /Users/annieteng/miniforge3/lib/python3.12/site-packages (from posthog>=2.4.0->chromadb!=0.5.10,!=0.5.11,!=0.5.12,!=0.5.4,!=0.5.5,!=0.5.7,!=0.5.9,<0.7.0,>=0.4.0->langchain_chroma) (2.2.1)\n",
      "Requirement already satisfied: distro>=1.5.0 in /Users/annieteng/miniforge3/lib/python3.12/site-packages (from posthog>=2.4.0->chromadb!=0.5.10,!=0.5.11,!=0.5.12,!=0.5.4,!=0.5.5,!=0.5.7,!=0.5.9,<0.7.0,>=0.4.0->langchain_chroma) (1.9.0)\n",
      "Requirement already satisfied: markdown-it-py>=2.2.0 in /Users/annieteng/miniforge3/lib/python3.12/site-packages (from rich>=10.11.0->chromadb!=0.5.10,!=0.5.11,!=0.5.12,!=0.5.4,!=0.5.5,!=0.5.7,!=0.5.9,<0.7.0,>=0.4.0->langchain_chroma) (3.0.0)\n",
      "Requirement already satisfied: pygments<3.0.0,>=2.13.0 in /Users/annieteng/miniforge3/lib/python3.12/site-packages (from rich>=10.11.0->chromadb!=0.5.10,!=0.5.11,!=0.5.12,!=0.5.4,!=0.5.5,!=0.5.7,!=0.5.9,<0.7.0,>=0.4.0->langchain_chroma) (2.18.0)\n",
      "Requirement already satisfied: huggingface-hub<1.0,>=0.16.4 in /Users/annieteng/miniforge3/lib/python3.12/site-packages (from tokenizers>=0.13.2->chromadb!=0.5.10,!=0.5.11,!=0.5.12,!=0.5.4,!=0.5.5,!=0.5.7,!=0.5.9,<0.7.0,>=0.4.0->langchain_chroma) (0.29.2)\n",
      "Requirement already satisfied: click>=8.0.0 in /Users/annieteng/miniforge3/lib/python3.12/site-packages (from typer>=0.9.0->chromadb!=0.5.10,!=0.5.11,!=0.5.12,!=0.5.4,!=0.5.5,!=0.5.7,!=0.5.9,<0.7.0,>=0.4.0->langchain_chroma) (8.1.8)\n",
      "Requirement already satisfied: shellingham>=1.3.0 in /Users/annieteng/miniforge3/lib/python3.12/site-packages (from typer>=0.9.0->chromadb!=0.5.10,!=0.5.11,!=0.5.12,!=0.5.4,!=0.5.5,!=0.5.7,!=0.5.9,<0.7.0,>=0.4.0->langchain_chroma) (1.5.4)\n",
      "Requirement already satisfied: mypy-extensions>=0.3.0 in /Users/annieteng/miniforge3/lib/python3.12/site-packages (from typing-inspect<1,>=0.4.0->dataclasses-json<0.7,>=0.5.7->langchain_community) (1.0.0)\n",
      "Requirement already satisfied: httptools>=0.6.3 in /Users/annieteng/miniforge3/lib/python3.12/site-packages (from uvicorn[standard]>=0.18.3->chromadb!=0.5.10,!=0.5.11,!=0.5.12,!=0.5.4,!=0.5.5,!=0.5.7,!=0.5.9,<0.7.0,>=0.4.0->langchain_chroma) (0.6.4)\n",
      "Requirement already satisfied: uvloop!=0.15.0,!=0.15.1,>=0.14.0 in /Users/annieteng/miniforge3/lib/python3.12/site-packages (from uvicorn[standard]>=0.18.3->chromadb!=0.5.10,!=0.5.11,!=0.5.12,!=0.5.4,!=0.5.5,!=0.5.7,!=0.5.9,<0.7.0,>=0.4.0->langchain_chroma) (0.21.0)\n",
      "Requirement already satisfied: watchfiles>=0.13 in /Users/annieteng/miniforge3/lib/python3.12/site-packages (from uvicorn[standard]>=0.18.3->chromadb!=0.5.10,!=0.5.11,!=0.5.12,!=0.5.4,!=0.5.5,!=0.5.7,!=0.5.9,<0.7.0,>=0.4.0->langchain_chroma) (1.0.4)\n",
      "Requirement already satisfied: websockets>=10.4 in /Users/annieteng/miniforge3/lib/python3.12/site-packages (from uvicorn[standard]>=0.18.3->chromadb!=0.5.10,!=0.5.11,!=0.5.12,!=0.5.4,!=0.5.5,!=0.5.7,!=0.5.9,<0.7.0,>=0.4.0->langchain_chroma) (15.0.1)\n",
      "Requirement already satisfied: cachetools<6.0,>=2.0.0 in /Users/annieteng/miniforge3/lib/python3.12/site-packages (from google-auth>=1.0.1->kubernetes>=28.1.0->chromadb!=0.5.10,!=0.5.11,!=0.5.12,!=0.5.4,!=0.5.5,!=0.5.7,!=0.5.9,<0.7.0,>=0.4.0->langchain_chroma) (5.5.2)\n",
      "Requirement already satisfied: pyasn1-modules>=0.2.1 in /Users/annieteng/miniforge3/lib/python3.12/site-packages (from google-auth>=1.0.1->kubernetes>=28.1.0->chromadb!=0.5.10,!=0.5.11,!=0.5.12,!=0.5.4,!=0.5.5,!=0.5.7,!=0.5.9,<0.7.0,>=0.4.0->langchain_chroma) (0.4.1)\n",
      "Requirement already satisfied: rsa<5,>=3.1.4 in /Users/annieteng/miniforge3/lib/python3.12/site-packages (from google-auth>=1.0.1->kubernetes>=28.1.0->chromadb!=0.5.10,!=0.5.11,!=0.5.12,!=0.5.4,!=0.5.5,!=0.5.7,!=0.5.9,<0.7.0,>=0.4.0->langchain_chroma) (4.9)\n",
      "Requirement already satisfied: filelock in /Users/annieteng/miniforge3/lib/python3.12/site-packages (from huggingface-hub<1.0,>=0.16.4->tokenizers>=0.13.2->chromadb!=0.5.10,!=0.5.11,!=0.5.12,!=0.5.4,!=0.5.5,!=0.5.7,!=0.5.9,<0.7.0,>=0.4.0->langchain_chroma) (3.17.0)\n",
      "Requirement already satisfied: fsspec>=2023.5.0 in /Users/annieteng/miniforge3/lib/python3.12/site-packages (from huggingface-hub<1.0,>=0.16.4->tokenizers>=0.13.2->chromadb!=0.5.10,!=0.5.11,!=0.5.12,!=0.5.4,!=0.5.5,!=0.5.7,!=0.5.9,<0.7.0,>=0.4.0->langchain_chroma) (2025.3.0)\n",
      "Requirement already satisfied: zipp>=3.20 in /Users/annieteng/miniforge3/lib/python3.12/site-packages (from importlib-metadata<=8.5.0,>=6.0->opentelemetry-api>=1.2.0->chromadb!=0.5.10,!=0.5.11,!=0.5.12,!=0.5.4,!=0.5.5,!=0.5.7,!=0.5.9,<0.7.0,>=0.4.0->langchain_chroma) (3.20.2)\n",
      "Requirement already satisfied: mdurl~=0.1 in /Users/annieteng/miniforge3/lib/python3.12/site-packages (from markdown-it-py>=2.2.0->rich>=10.11.0->chromadb!=0.5.10,!=0.5.11,!=0.5.12,!=0.5.4,!=0.5.5,!=0.5.7,!=0.5.9,<0.7.0,>=0.4.0->langchain_chroma) (0.1.2)\n",
      "Requirement already satisfied: humanfriendly>=9.1 in /Users/annieteng/miniforge3/lib/python3.12/site-packages (from coloredlogs->onnxruntime>=1.14.1->chromadb!=0.5.10,!=0.5.11,!=0.5.12,!=0.5.4,!=0.5.5,!=0.5.7,!=0.5.9,<0.7.0,>=0.4.0->langchain_chroma) (10.0)\n",
      "Requirement already satisfied: mpmath<1.4,>=1.1.0 in /Users/annieteng/miniforge3/lib/python3.12/site-packages (from sympy->onnxruntime>=1.14.1->chromadb!=0.5.10,!=0.5.11,!=0.5.12,!=0.5.4,!=0.5.5,!=0.5.7,!=0.5.9,<0.7.0,>=0.4.0->langchain_chroma) (1.3.0)\n",
      "Requirement already satisfied: pyasn1<0.7.0,>=0.4.6 in /Users/annieteng/miniforge3/lib/python3.12/site-packages (from pyasn1-modules>=0.2.1->google-auth>=1.0.1->kubernetes>=28.1.0->chromadb!=0.5.10,!=0.5.11,!=0.5.12,!=0.5.4,!=0.5.5,!=0.5.7,!=0.5.9,<0.7.0,>=0.4.0->langchain_chroma) (0.6.1)\n",
      "Note: you may need to restart the kernel to use updated packages.\n"
     ]
    }
   ],
   "source": [
    "pip install langchain langchain_community langchain_chroma pypdf"
   ]
  },
  {
   "cell_type": "code",
   "execution_count": 3,
   "id": "4dc04c31-276e-4873-b761-c16e337d294f",
   "metadata": {
    "id": "4dc04c31-276e-4873-b761-c16e337d294f"
   },
   "outputs": [
    {
     "name": "stderr",
     "output_type": "stream",
     "text": [
      "/var/folders/gp/0sgj69l97wlch48wcjxlwr0h0000gp/T/ipykernel_21881/2192898646.py:4: LangChainDeprecationWarning: The class `Ollama` was deprecated in LangChain 0.3.1 and will be removed in 1.0.0. An updated version of the class exists in the :class:`~langchain-ollama package and should be used instead. To use it run `pip install -U :class:`~langchain-ollama` and import as `from :class:`~langchain_ollama import OllamaLLM``.\n",
      "  llm = Ollama(model=\"deepseek-r1\")\n"
     ]
    }
   ],
   "source": [
    "from langchain_community.llms import Ollama\n",
    "from langchain_community.document_loaders import TextLoader\n",
    "\n",
    "llm = Ollama(model=\"deepseek-r1\")\n",
    "\n",
    "loader = TextLoader(\"/Users/annieteng/Desktop/0308test.txt\")      #讀文檔"
   ]
  },
  {
   "cell_type": "code",
   "execution_count": 4,
   "id": "1cd4f484-e537-4d83-af74-1d240d977516",
   "metadata": {
    "id": "1cd4f484-e537-4d83-af74-1d240d977516"
   },
   "outputs": [],
   "source": [
    "from langchain.text_splitter import RecursiveCharacterTextSplitter\n",
    "\n",
    "text_splitter = RecursiveCharacterTextSplitter(              #把文章拆成更小的段落\n",
    "    chunk_size=20,                                           #每個段落只有 20 個字元\n",
    "    chunk_overlap=5,                                         #段落之間會重疊 5 個字元\n",
    "    separators=[\" \", \",\", \"\\n\"],                             #根據空格、逗號、換行符來分割文章\n",
    ")\n",
    "\n",
    "splited_docs = text_splitter.split_documents(loader.load())"
   ]
  },
  {
   "cell_type": "markdown",
   "id": "2c40e8cc-5ce9-41ca-b3c0-a2f10d7c3bbf",
   "metadata": {
    "id": "2c40e8cc-5ce9-41ca-b3c0-a2f10d7c3bbf"
   },
   "source": [
    "在終端 ollama pull nomic-embed-text"
   ]
  },
  {
   "cell_type": "code",
   "execution_count": 5,
   "id": "7a01a7b4-a864-4c99-8637-8e0fb34e35e4",
   "metadata": {
    "id": "7a01a7b4-a864-4c99-8637-8e0fb34e35e4"
   },
   "outputs": [
    {
     "name": "stderr",
     "output_type": "stream",
     "text": [
      "/var/folders/gp/0sgj69l97wlch48wcjxlwr0h0000gp/T/ipykernel_21881/4086859246.py:3: LangChainDeprecationWarning: The class `OllamaEmbeddings` was deprecated in LangChain 0.3.1 and will be removed in 1.0.0. An updated version of the class exists in the :class:`~langchain-ollama package and should be used instead. To use it run `pip install -U :class:`~langchain-ollama` and import as `from :class:`~langchain_ollama import OllamaEmbeddings``.\n",
      "  embeddings = OllamaEmbeddings(model=\"nomic-embed-text\")       #把段落轉成向量\n"
     ]
    }
   ],
   "source": [
    "from langchain_community.embeddings import OllamaEmbeddings\n",
    "\n",
    "embeddings = OllamaEmbeddings(model=\"nomic-embed-text\")       #把段落轉成向量"
   ]
  },
  {
   "cell_type": "code",
   "execution_count": 6,
   "id": "7cbb8d42-f048-4a39-a697-f2de1ccbdeaa",
   "metadata": {
    "id": "7cbb8d42-f048-4a39-a697-f2de1ccbdeaa"
   },
   "outputs": [],
   "source": [
    "from langchain_community.vectorstores import Chroma\n",
    "\n",
    "vector_db = Chroma.from_documents(\n",
    "    documents=splited_docs,                          #使用剛剛拆分好的段落\n",
    "    embedding=embeddings,                            #轉成向量\n",
    "    persist_directory=\"db\",                          #把資料存入名為 db 的目錄\n",
    "    collection_name=\"about\",                         #你可以自己幫這個向量資料庫取名\n",
    ")"
   ]
  },
  {
   "cell_type": "code",
   "execution_count": 7,
   "id": "43cf9cc2-ee25-44bf-a029-10d7a24cdca8",
   "metadata": {
    "id": "43cf9cc2-ee25-44bf-a029-10d7a24cdca8"
   },
   "outputs": [],
   "source": [
    "from langchain_core.prompts import ChatPromptTemplate\n",
    "\n",
    "retriever = vector_db.as_retriever(search_kwargs={\"k\": 3})    #返回相關性前三高的段落\n",
    "\n",
    "system_prompt = \"現在開始使用我提供的情境來回答，只能使用繁體中文，不要有簡體中文字。如果你不確定答案，就說不知道。情境如下:\\n\\n{context}\"\n",
    "prompt_template = ChatPromptTemplate.from_messages(\n",
    "    [\n",
    "        (\"system\", system_prompt),\n",
    "        (\"user\", \"問題: {input}\"),\n",
    "    ]\n",
    ")"
   ]
  },
  {
   "cell_type": "code",
   "execution_count": 8,
   "id": "ea8540a8-0975-4ac6-9a2a-31cb0547b66d",
   "metadata": {
    "id": "ea8540a8-0975-4ac6-9a2a-31cb0547b66d"
   },
   "outputs": [
    {
     "name": "stdin",
     "output_type": "stream",
     "text": [
      "您想問什麼問題？\n",
      ">>>  ive的團名由來是什麼\n"
     ]
    },
    {
     "name": "stdout",
     "output_type": "stream",
     "text": [
      "<think>\n",
      "好的，我现在需要回答用户关于IVE团名由来的问题。首先，我仔细阅读了用户提供的背景信息，了解到IVE的团名来源于\"Dive IVE\"这个问候语。\n",
      "\n",
      "接下来，我分析了\"Dive IVE\"的意义。“Dive”意指下沉或深入，象征着沉浸其中；而“IVE”是乐团的名字。结合起来，“Dive IVE”表达了粉丝对乐团音乐和魅力的期待以及信任，希望他们能一起享受音乐和舞台。\n",
      "\n",
      "然后，我考虑用户的需求是否还有更深一层的东西。用户可能不仅想知道团名由来的字面意思，还可能想要了解背后的文化或象征意义。因此，在回答时，我可以进一步解释“Dive”如何体现乐团对粉丝的期待，以及这种结合方式如何增强粉丝与乐团的情感连接。\n",
      "\n",
      "最后，我确保用词准确，不使用任何简体中文，并保持口语化的表达，使答案既清晰又易于理解。\n",
      "</think>\n",
      "\n",
      "IVE的團名来源于「Dive IVE」這個問候語。其中，“Dive”表達了对乐团音樂和魅力的期待，以及希望粉絲們能一起沉浸在乐团的作品中；“IVE”則是乐团本身的團名。這两个元素结合在一起，代表了對粉絲们的一种期待和信任，希望他們能够共同享受音樂和_stage。\n"
     ]
    },
    {
     "name": "stdin",
     "output_type": "stream",
     "text": [
      ">>>  ive的手燈有什麼特別的嗎\n"
     ]
    },
    {
     "name": "stdout",
     "output_type": "stream",
     "text": [
      "<think>\n",
      "好，我现在需要回答用户关于IVE的手灯有什么特别的问题。首先，我得仔细查看提供的情境信息，了解手灯的特点和设计元素。根据情境描述，手灯使用了带有inue字體的水晶球手柄，下方是邱比特箭头，并且字體和箭頭都可以旋转。手灯按钮是一个逗号，而逗号则出现在IVE官方标志英文'i'的小写字面上，点在旁边。\n",
      "\n",
      "首先，手灯的设计应该结合了音乐和艺术元素，可能象征着IVE的创作和表演风格。名字IVE中的“I”用的是inue字體，这可能代表了团队的名字结构以及其在舞台上的核心地位。邱比特箭头通常象征爱情和关系，这里可能寓意成员之间的连接或情感纽带。\n",
      "\n",
      "手灯按钮的设计比较有趣，把逗号作为按钮，而这个符号旁边有个点，可能暗示音乐中的节奏感或者连接性。i字上有点可能代表IVe的第一个人物I，突出其在团队中的重要性。\n",
      "\n",
      "此外，整体设计应该既实用又美观，体现IVE的创作理念和粉丝间的紧密联系。手灯不仅是装饰品，还能增强用户的互动体验，让粉丝们感受到品牌的独特魅力。\n",
      "\n",
      "所以，总结一下，IVE的手灯特别之处在于其结合了书法、箭头符号以及音乐元素的设计，同时按钮的设计也有创意，象征团队的核心和连接性。\n",
      "</think>\n",
      "\n",
      "IVE的手燈設計有著多種獨特元素。首先，水晶球手柄上刻有以IVE為標誌的“INVE”字體，下方則放置邱比特箭，两者皆可旋轉，可能表達了團隊对 love 和 connection 的关注。此外，手灯按鈕是逗號，而逗号旁的一點可能暗示了音樂中的節奏或连接性。整体来说，設計融合了书法、arrow symbol 和音樂元素，強調了團隊的 creativity 和 connection.\n"
     ]
    },
    {
     "ename": "KeyboardInterrupt",
     "evalue": "Interrupted by user",
     "output_type": "error",
     "traceback": [
      "\u001b[0;31m---------------------------------------------------------------------------\u001b[0m",
      "\u001b[0;31mKeyboardInterrupt\u001b[0m                         Traceback (most recent call last)",
      "Cell \u001b[0;32mIn[8], line 16\u001b[0m\n\u001b[1;32m     12\u001b[0m context \u001b[38;5;241m=\u001b[39m response[\u001b[38;5;124m\"\u001b[39m\u001b[38;5;124mcontext\u001b[39m\u001b[38;5;124m\"\u001b[39m]\n\u001b[1;32m     14\u001b[0m \u001b[38;5;28mprint\u001b[39m(response[\u001b[38;5;124m\"\u001b[39m\u001b[38;5;124manswer\u001b[39m\u001b[38;5;124m\"\u001b[39m])\n\u001b[0;32m---> 16\u001b[0m input_text \u001b[38;5;241m=\u001b[39m \u001b[38;5;28;43minput\u001b[39;49m\u001b[43m(\u001b[49m\u001b[38;5;124;43m\"\u001b[39;49m\u001b[38;5;124;43m>>> \u001b[39;49m\u001b[38;5;124;43m\"\u001b[39;49m\u001b[43m)\u001b[49m\n",
      "File \u001b[0;32m~/miniforge3/lib/python3.12/site-packages/ipykernel/kernelbase.py:1282\u001b[0m, in \u001b[0;36mKernel.raw_input\u001b[0;34m(self, prompt)\u001b[0m\n\u001b[1;32m   1280\u001b[0m     msg \u001b[38;5;241m=\u001b[39m \u001b[38;5;124m\"\u001b[39m\u001b[38;5;124mraw_input was called, but this frontend does not support input requests.\u001b[39m\u001b[38;5;124m\"\u001b[39m\n\u001b[1;32m   1281\u001b[0m     \u001b[38;5;28;01mraise\u001b[39;00m StdinNotImplementedError(msg)\n\u001b[0;32m-> 1282\u001b[0m \u001b[38;5;28;01mreturn\u001b[39;00m \u001b[38;5;28;43mself\u001b[39;49m\u001b[38;5;241;43m.\u001b[39;49m\u001b[43m_input_request\u001b[49m\u001b[43m(\u001b[49m\n\u001b[1;32m   1283\u001b[0m \u001b[43m    \u001b[49m\u001b[38;5;28;43mstr\u001b[39;49m\u001b[43m(\u001b[49m\u001b[43mprompt\u001b[49m\u001b[43m)\u001b[49m\u001b[43m,\u001b[49m\n\u001b[1;32m   1284\u001b[0m \u001b[43m    \u001b[49m\u001b[38;5;28;43mself\u001b[39;49m\u001b[38;5;241;43m.\u001b[39;49m\u001b[43m_parent_ident\u001b[49m\u001b[43m[\u001b[49m\u001b[38;5;124;43m\"\u001b[39;49m\u001b[38;5;124;43mshell\u001b[39;49m\u001b[38;5;124;43m\"\u001b[39;49m\u001b[43m]\u001b[49m\u001b[43m,\u001b[49m\n\u001b[1;32m   1285\u001b[0m \u001b[43m    \u001b[49m\u001b[38;5;28;43mself\u001b[39;49m\u001b[38;5;241;43m.\u001b[39;49m\u001b[43mget_parent\u001b[49m\u001b[43m(\u001b[49m\u001b[38;5;124;43m\"\u001b[39;49m\u001b[38;5;124;43mshell\u001b[39;49m\u001b[38;5;124;43m\"\u001b[39;49m\u001b[43m)\u001b[49m\u001b[43m,\u001b[49m\n\u001b[1;32m   1286\u001b[0m \u001b[43m    \u001b[49m\u001b[43mpassword\u001b[49m\u001b[38;5;241;43m=\u001b[39;49m\u001b[38;5;28;43;01mFalse\u001b[39;49;00m\u001b[43m,\u001b[49m\n\u001b[1;32m   1287\u001b[0m \u001b[43m\u001b[49m\u001b[43m)\u001b[49m\n",
      "File \u001b[0;32m~/miniforge3/lib/python3.12/site-packages/ipykernel/kernelbase.py:1325\u001b[0m, in \u001b[0;36mKernel._input_request\u001b[0;34m(self, prompt, ident, parent, password)\u001b[0m\n\u001b[1;32m   1322\u001b[0m \u001b[38;5;28;01mexcept\u001b[39;00m \u001b[38;5;167;01mKeyboardInterrupt\u001b[39;00m:\n\u001b[1;32m   1323\u001b[0m     \u001b[38;5;66;03m# re-raise KeyboardInterrupt, to truncate traceback\u001b[39;00m\n\u001b[1;32m   1324\u001b[0m     msg \u001b[38;5;241m=\u001b[39m \u001b[38;5;124m\"\u001b[39m\u001b[38;5;124mInterrupted by user\u001b[39m\u001b[38;5;124m\"\u001b[39m\n\u001b[0;32m-> 1325\u001b[0m     \u001b[38;5;28;01mraise\u001b[39;00m \u001b[38;5;167;01mKeyboardInterrupt\u001b[39;00m(msg) \u001b[38;5;28;01mfrom\u001b[39;00m \u001b[38;5;28;01mNone\u001b[39;00m\n\u001b[1;32m   1326\u001b[0m \u001b[38;5;28;01mexcept\u001b[39;00m \u001b[38;5;167;01mException\u001b[39;00m:\n\u001b[1;32m   1327\u001b[0m     \u001b[38;5;28mself\u001b[39m\u001b[38;5;241m.\u001b[39mlog\u001b[38;5;241m.\u001b[39mwarning(\u001b[38;5;124m\"\u001b[39m\u001b[38;5;124mInvalid Message:\u001b[39m\u001b[38;5;124m\"\u001b[39m, exc_info\u001b[38;5;241m=\u001b[39m\u001b[38;5;28;01mTrue\u001b[39;00m)\n",
      "\u001b[0;31mKeyboardInterrupt\u001b[0m: Interrupted by user"
     ]
    },
    {
     "name": "stdin",
     "output_type": "stream",
     "text": [
      ">>>  bye\n"
     ]
    }
   ],
   "source": [
    "from langchain.chains.combine_documents import create_stuff_documents_chain\n",
    "from langchain.chains import create_retrieval_chain\n",
    "\n",
    "document_chain = create_stuff_documents_chain(llm, prompt_template)               #把檢索到的段落交給 LLM\n",
    "retrieval_chain = create_retrieval_chain(retriever, document_chain)               #負責檢索最相關的段落\n",
    "\n",
    "context = []\n",
    "input_text = input(\"您想問什麼問題？\\n>>> \")\n",
    "\n",
    "while input_text.lower() != \"bye\":\n",
    "    response = retrieval_chain.invoke({\"input\": input_text, \"context\": context})\n",
    "    context = response[\"context\"]\n",
    "\n",
    "    print(response[\"answer\"])\n",
    "\n",
    "    input_text = input(\">>> \")"
   ]
  },
  {
   "cell_type": "markdown",
   "id": "2f642608-bb00-4f61-b4ca-d54f6b3b50cd",
   "metadata": {
    "id": "2f642608-bb00-4f61-b4ca-d54f6b3b50cd"
   },
   "source": [
    "第三階段：輸入 pdf 檔讓 LLM 回答"
   ]
  },
  {
   "cell_type": "code",
   "execution_count": 9,
   "id": "f52cd502-fad1-4f1e-8328-9867b775fd1f",
   "metadata": {
    "id": "f52cd502-fad1-4f1e-8328-9867b775fd1f"
   },
   "outputs": [],
   "source": [
    "from langchain_community.document_loaders import PyPDFLoader\n",
    "\n",
    "loader = PyPDFLoader(\"/Users/annieteng/Desktop/個人資料/resume/中文履歷.pdf\")\n",
    "splited_docs = loader.load_and_split()"
   ]
  },
  {
   "cell_type": "code",
   "execution_count": 13,
   "id": "41ac3f49-222c-4c08-bcbd-5bc577be1d3b",
   "metadata": {
    "id": "41ac3f49-222c-4c08-bcbd-5bc577be1d3b"
   },
   "outputs": [],
   "source": [
    "vector_db = Chroma.from_documents(\n",
    "    documents=splited_docs,\n",
    "    embedding=embeddings,\n",
    "    persist_directory=\"db\",\n",
    "    collection_name=\"resume_collection\",\n",
    ")"
   ]
  },
  {
   "cell_type": "code",
   "execution_count": null,
   "id": "9576e5c6-7729-4902-b750-1b2f6dd023b0",
   "metadata": {
    "id": "9576e5c6-7729-4902-b750-1b2f6dd023b0"
   },
   "outputs": [
    {
     "name": "stdin",
     "output_type": "stream",
     "text": [
      "您想問什麼問題？\n",
      ">>>  我叫什麼名字\n"
     ]
    },
    {
     "name": "stdout",
     "output_type": "stream",
     "text": [
      "<think>\n",
      "嗯，用户发来了一个问题：“我叫什么名字”。看起来这是个挺直接的问题。首先，我要理解用户到底在问什么。可能是想确认自己的名字，或者是在某个情境下需要知道自己的名字。\n",
      "\n",
      "接下来，我看看用户提供的信息有没有相关的线索。用户提供了一段相当长的英文文本，里面提到了很多学术背景、项目经历、证书等等。但这些内容中并没有提到任何关于个人名字的信息。所以，可能用户的目的是想通过展示自己的学术和专业能力来推断自己的名字，或者是在某个平台上需要填写名字。\n",
      "\n",
      "也有可能用户只是测试一下如何回复，或者是一个误操作。考虑到文本中没有提供名字，我无法从这段信息中直接提取出名字。不过，根据常见的做法，通常名字会在简历的开头部分明确列出，比如“John Doe”或者其他类似的格式。但是在这里，文本结构中并没有这样的条目。\n",
      "\n",
      "另外，用户可能是在某个申请过程中需要提交个人信息，而自己忘记了名字，想通过这种方式询问。但同样，没有名字的信息来源，所以无法提供帮助。\n",
      "\n",
      "综上所述，根据提供的信息，我无法确定用户的姓名。建议用户提供更多的详细信息，比如直接询问名字，或者在其他地方查看记录。\n",
      "</think>\n",
      "\n",
      "您叫什么名字？\n"
     ]
    },
    {
     "name": "stdin",
     "output_type": "stream",
     "text": [
      ">>>  鄧婷安的履歷有什麼\n"
     ]
    },
    {
     "name": "stdout",
     "output_type": "stream",
     "text": [
      "<think>\n",
      "嗯，我需要分析邓婷安的简历。首先，她的教育背景包括本科、硕士和博士，都是在国立大学学习材料科学与工程。她的GPA很高，达到了3.89/4.3。她还获得了几个荣誉奖项，比如MRSTIC的杰出研究奖和GPA第一名。\n",
      "\n",
      "接下来是她的科研经历。她在相变动力学、生物组织工程和可持续材料方面有研究。她参与了GLOBE访问学生项目，并且有团队合作的经验，指导了150名本科生提高学习效率。这些经历显示了她的领导能力和实际操作能力。\n",
      "\n",
      "她的实习和工作经历包括在柏克利分校的实验室和NTHU MSE材料科学硕士。她还教授过材料科学课程，并且使用了多种技术工具如Python、Pandas等。\n",
      "\n",
      "她的技能方面，编程语言掌握得很好，还有SQL、Google Cloud等工具。此外，她有学术出版的经历，发表了多篇论文并获得了最佳海报奖。\n",
      "\n",
      "最后是她的证书和语言成绩，比如TOEFL和TOEIC，以及相关的专业证书。\n",
      "\n",
      "总结一下，邓婷安是一位在材料科学与工程领域非常有天赋的学生，拥有丰富的科研、教学和社会服务经验，并且具备强大的技术能力和团队合作能力。\n",
      "</think>\n",
      "\n",
      "邓婷安的简历显示她是一位在材料科学与工程领域表现出色的优秀学生和研究人员。以下是她的主要亮点：\n",
      "\n",
      "### 教育背景\n",
      "- **博士**：国立大学，材料科学与工程，GPA 3.89/4.3\n",
      "- **硕士**：国立大学，材料科学与工程，GPA 高达3.95/4.3\n",
      "- **学士**：国立大学，材料科学与工程，GPA 同样优异\n",
      "\n",
      "### 研究经历\n",
      "- 多篇高质量的学术论文发表，涵盖相变动力学、生物组织工程和可持续材料领域。\n",
      "- 获得多个荣誉奖项，包括MRSTIC的杰出研究奖和最佳海报奖。\n",
      "\n",
      "### 科研与团队合作\n",
      "- 参与实验室研究项目，指导150名本科生提高学习效率。\n",
      "- 在UC Berkeley的实验室中进行过相关研究，并参与了GLOBE访问学生项目。\n",
      "\n",
      "### 技能与工具\n",
      "- 精通编程语言如Python、Pandas、Scikit-learn等。\n",
      "- 了解SQL和Google Cloud等技术。\n",
      "- 出版多篇学术论文，展示其在材料科学领域的深厚造诣。\n",
      "\n",
      "### 社会服务\n",
      "- 曾任国立大学的课程助教，并教授过材料科学课程。\n",
      "\n",
      "### 其他\n",
      "- 高水平的语言成绩（TOEFL 103，TOEIC 945）。\n",
      "- 多次参与学术会议并做报告。\n",
      "\n",
      "邓婷安在科研、教学和社会服务方面都有卓越表现，是一位全面发展的学者。\n"
     ]
    },
    {
     "name": "stdin",
     "output_type": "stream",
     "text": [
      ">>>  你應該要用繁體中文\n"
     ]
    },
    {
     "name": "stdout",
     "output_type": "stream",
     "text": [
      "<think>\n",
      "好的，现在我要分析一下用户的需求。用户提供了一段详细的学习经历和项目经验的简历，并且询问应该用繁体中文来回复问题。\n",
      "\n",
      "首先，用户提供的内容主要是一份学术背景和相关项目的描述，看起来像是申请材料的一部分，比如研究生申请或者博士项目。用户特别提到了使用繁体中文，这可能是因为他们打算在台湾、香港或大陆的一些学校申请，这些地方通常使用繁体字。\n",
      "\n",
      "接下来，我需要确定用户的意图是什么。他们可能是在准备申请材料时遇到的格式问题，或者想确认是否应该使用繁体字来呈现他们的背景信息。也有可能用户希望将简历中的内容转换为繁体中文版本，以便更好地适应申请所需的语言要求。\n",
      "\n",
      "考虑到用户已经明确说明了使用繁體中文，我应该回应时保持语言的正确性，并且确保所有术语和专有名词都以繁体字呈现，例如“研建成后”应写成“研究生毕业后”，“TOEFL 103”应写为“托福 103”。\n",
      "\n",
      "此外，用户可能希望简历中的项目和学术经历能够清晰、准确地传达他们的能力、技能和成就。因此，在回应时，我需要确保所有数据都正确无误，并且用词正式、专业。\n",
      "\n",
      "总结一下，用户的需求是将他们的学术背景和项目经验转化为繁体中文的版本，以符合申请材料的要求。因此，我的回答应包括转换后的简历内容，使用正确的繁体字，并保持语言的专业性和准确性。\n",
      "</think>\n",
      "\n",
      "這段文字看起来像是一个人的学术背景和研究经历，主要涉及材料科学、3D技术、仿生学等领域的学习和项目经验。如果你有問題或需要進一步解釋相关内容，請告訴我。\n"
     ]
    }
   ],
   "source": [
    "retriever = vector_db.as_retriever(search_kwargs={\"k\": 3})\n",
    "\n",
    "system_prompt = \"現在開始使用我提供的情境來回答，只能使用繁體中文，不要有簡體中文字。如果你不確定答案，就說不知道。情境如下:\\n\\n{context}\"\n",
    "prompt_template = ChatPromptTemplate.from_messages(\n",
    "    [\n",
    "        (\"system\", system_prompt),\n",
    "        (\"user\", \"問題: {input}\"),\n",
    "    ]\n",
    ")\n",
    "\n",
    "document_chain = create_stuff_documents_chain(llm, prompt_template)\n",
    "retrieval_chain = create_retrieval_chain(retriever, document_chain)\n",
    "\n",
    "context = []\n",
    "input_text = input(\"您想問什麼問題？\\n>>> \")\n",
    "\n",
    "while input_text.lower() != \"bye\":\n",
    "    response = retrieval_chain.invoke({\"input\": input_text, \"context\": context})\n",
    "    context = response[\"context\"]\n",
    "\n",
    "    print(response[\"answer\"])\n",
    "\n",
    "    input_text = input(\">>> \")"
   ]
  },
  {
   "cell_type": "code",
   "execution_count": null,
   "id": "dd720a63-9b32-4993-8206-f77cbe76ecd8",
   "metadata": {},
   "outputs": [],
   "source": []
  }
 ],
 "metadata": {
  "colab": {
   "provenance": []
  },
  "kernelspec": {
   "display_name": "Python 3 (ipykernel)",
   "language": "python",
   "name": "python3"
  },
  "language_info": {
   "codemirror_mode": {
    "name": "ipython",
    "version": 3
   },
   "file_extension": ".py",
   "mimetype": "text/x-python",
   "name": "python",
   "nbconvert_exporter": "python",
   "pygments_lexer": "ipython3",
   "version": "3.12.6"
  }
 },
 "nbformat": 4,
 "nbformat_minor": 5
}
